{
 "cells": [
  {
   "cell_type": "markdown",
   "metadata": {},
   "source": [
    "# ASI ASSESSMENT 2015/2016\n",
    "<p style=\"text-align:right\";>_Realized by **Achille SALAÜN**_</p>\n",
    "\n",
    "<p style=\"text-align:justify\";>*In this work you will analyze two datasets on wine quality available from the UCI machine learning repository:*</p>\n",
    "\n",
    "<p style=\"text-align:center\";>http://archive.ics.uci.edu/ml/datasets/Wine+Quality</p>\n",
    "\n",
    "<p style=\"text-align:justify\";>*Listed below are various exercises to undertake. Note that in each case you should implement the algorithms\n",
    "yourselves - you may not use other implementations - and should submit all of your code.*</p>"
   ]
  },
  {
   "cell_type": "code",
   "execution_count": 1,
   "metadata": {
    "collapsed": true
   },
   "outputs": [],
   "source": [
    "import numpy as np\n",
    "import pandas as pd\n",
    "import random as rd\n",
    "import matplotlib.pyplot as plt\n",
    "import scipy.optimize as opt\n",
    "%matplotlib inline"
   ]
  },
  {
   "cell_type": "markdown",
   "metadata": {},
   "source": [
    "## Question 1\n",
    "*Download the red and white wine .csv files and import them. The first 11 columns are features and the final column is the target.*"
   ]
  },
  {
   "cell_type": "code",
   "execution_count": 2,
   "metadata": {
    "collapsed": false
   },
   "outputs": [],
   "source": [
    "def load(dataFile):\n",
    "    r = pd.read_csv(dataFile                        ,\\\n",
    "                       sep=';'                      ,\\\n",
    "                       header=0                     ,\\\n",
    "                       names=['fixed_acidity'       ,\\\n",
    "                              'volatile_acidity'    ,\\\n",
    "                              'citric_acid'         ,\\\n",
    "                              'residual_sugar'      ,\\\n",
    "                              'chlorides'           ,\\\n",
    "                              'free_sulfur_dioxide' ,\\\n",
    "                              'total_sulfur_dioxide',\\\n",
    "                              'density'             ,\\\n",
    "                              'pH'                  ,\\\n",
    "                              'sulphates'           ,\\\n",
    "                              'alcohol'             ,\\\n",
    "                              'quality']            ,\\\n",
    "                       dtype=float)\n",
    "    \n",
    "    r[['free_sulfur_dioxide','total_sulfur_dioxide','quality']] =\\\n",
    "    r[['free_sulfur_dioxide','total_sulfur_dioxide','quality']].astype(int)\n",
    "    \n",
    "    return r\n",
    "\n",
    "red  = load('winequality-red.csv')\n",
    "white = load('winequality-white.csv')"
   ]
  },
  {
   "cell_type": "code",
   "execution_count": 3,
   "metadata": {
    "collapsed": false,
    "scrolled": true
   },
   "outputs": [
    {
     "name": "stdout",
     "output_type": "stream",
     "text": [
      "fixed_acidity           float64\n",
      "volatile_acidity        float64\n",
      "citric_acid             float64\n",
      "residual_sugar          float64\n",
      "chlorides               float64\n",
      "free_sulfur_dioxide       int64\n",
      "total_sulfur_dioxide      int64\n",
      "density                 float64\n",
      "pH                      float64\n",
      "sulphates               float64\n",
      "alcohol                 float64\n",
      "quality                   int64\n",
      "dtype: object\n"
     ]
    }
   ],
   "source": [
    "print red.dtypes"
   ]
  },
  {
   "cell_type": "code",
   "execution_count": 4,
   "metadata": {
    "collapsed": false
   },
   "outputs": [
    {
     "data": {
      "text/html": [
       "<div>\n",
       "<table border=\"1\" class=\"dataframe\">\n",
       "  <thead>\n",
       "    <tr style=\"text-align: right;\">\n",
       "      <th></th>\n",
       "      <th>fixed_acidity</th>\n",
       "      <th>volatile_acidity</th>\n",
       "      <th>citric_acid</th>\n",
       "      <th>residual_sugar</th>\n",
       "      <th>chlorides</th>\n",
       "      <th>free_sulfur_dioxide</th>\n",
       "      <th>total_sulfur_dioxide</th>\n",
       "      <th>density</th>\n",
       "      <th>pH</th>\n",
       "      <th>sulphates</th>\n",
       "      <th>alcohol</th>\n",
       "      <th>quality</th>\n",
       "    </tr>\n",
       "  </thead>\n",
       "  <tbody>\n",
       "    <tr>\n",
       "      <th>0</th>\n",
       "      <td>7.4</td>\n",
       "      <td>0.70</td>\n",
       "      <td>0.00</td>\n",
       "      <td>1.9</td>\n",
       "      <td>0.076</td>\n",
       "      <td>11</td>\n",
       "      <td>34</td>\n",
       "      <td>0.9978</td>\n",
       "      <td>3.51</td>\n",
       "      <td>0.56</td>\n",
       "      <td>9.4</td>\n",
       "      <td>5</td>\n",
       "    </tr>\n",
       "    <tr>\n",
       "      <th>1</th>\n",
       "      <td>7.8</td>\n",
       "      <td>0.88</td>\n",
       "      <td>0.00</td>\n",
       "      <td>2.6</td>\n",
       "      <td>0.098</td>\n",
       "      <td>25</td>\n",
       "      <td>67</td>\n",
       "      <td>0.9968</td>\n",
       "      <td>3.20</td>\n",
       "      <td>0.68</td>\n",
       "      <td>9.8</td>\n",
       "      <td>5</td>\n",
       "    </tr>\n",
       "    <tr>\n",
       "      <th>2</th>\n",
       "      <td>7.8</td>\n",
       "      <td>0.76</td>\n",
       "      <td>0.04</td>\n",
       "      <td>2.3</td>\n",
       "      <td>0.092</td>\n",
       "      <td>15</td>\n",
       "      <td>54</td>\n",
       "      <td>0.9970</td>\n",
       "      <td>3.26</td>\n",
       "      <td>0.65</td>\n",
       "      <td>9.8</td>\n",
       "      <td>5</td>\n",
       "    </tr>\n",
       "    <tr>\n",
       "      <th>3</th>\n",
       "      <td>11.2</td>\n",
       "      <td>0.28</td>\n",
       "      <td>0.56</td>\n",
       "      <td>1.9</td>\n",
       "      <td>0.075</td>\n",
       "      <td>17</td>\n",
       "      <td>60</td>\n",
       "      <td>0.9980</td>\n",
       "      <td>3.16</td>\n",
       "      <td>0.58</td>\n",
       "      <td>9.8</td>\n",
       "      <td>6</td>\n",
       "    </tr>\n",
       "    <tr>\n",
       "      <th>4</th>\n",
       "      <td>7.4</td>\n",
       "      <td>0.70</td>\n",
       "      <td>0.00</td>\n",
       "      <td>1.9</td>\n",
       "      <td>0.076</td>\n",
       "      <td>11</td>\n",
       "      <td>34</td>\n",
       "      <td>0.9978</td>\n",
       "      <td>3.51</td>\n",
       "      <td>0.56</td>\n",
       "      <td>9.4</td>\n",
       "      <td>5</td>\n",
       "    </tr>\n",
       "  </tbody>\n",
       "</table>\n",
       "</div>"
      ],
      "text/plain": [
       "   fixed_acidity  volatile_acidity  citric_acid  residual_sugar  chlorides  \\\n",
       "0            7.4              0.70         0.00             1.9      0.076   \n",
       "1            7.8              0.88         0.00             2.6      0.098   \n",
       "2            7.8              0.76         0.04             2.3      0.092   \n",
       "3           11.2              0.28         0.56             1.9      0.075   \n",
       "4            7.4              0.70         0.00             1.9      0.076   \n",
       "\n",
       "   free_sulfur_dioxide  total_sulfur_dioxide  density    pH  sulphates  \\\n",
       "0                   11                    34   0.9978  3.51       0.56   \n",
       "1                   25                    67   0.9968  3.20       0.68   \n",
       "2                   15                    54   0.9970  3.26       0.65   \n",
       "3                   17                    60   0.9980  3.16       0.58   \n",
       "4                   11                    34   0.9978  3.51       0.56   \n",
       "\n",
       "   alcohol  quality  \n",
       "0      9.4        5  \n",
       "1      9.8        5  \n",
       "2      9.8        5  \n",
       "3      9.8        6  \n",
       "4      9.4        5  "
      ]
     },
     "execution_count": 4,
     "metadata": {},
     "output_type": "execute_result"
    }
   ],
   "source": [
    "red.head()"
   ]
  },
  {
   "cell_type": "code",
   "execution_count": 5,
   "metadata": {
    "collapsed": false
   },
   "outputs": [
    {
     "data": {
      "text/html": [
       "<div>\n",
       "<table border=\"1\" class=\"dataframe\">\n",
       "  <thead>\n",
       "    <tr style=\"text-align: right;\">\n",
       "      <th></th>\n",
       "      <th>fixed_acidity</th>\n",
       "      <th>volatile_acidity</th>\n",
       "      <th>citric_acid</th>\n",
       "      <th>residual_sugar</th>\n",
       "      <th>chlorides</th>\n",
       "      <th>free_sulfur_dioxide</th>\n",
       "      <th>total_sulfur_dioxide</th>\n",
       "      <th>density</th>\n",
       "      <th>pH</th>\n",
       "      <th>sulphates</th>\n",
       "      <th>alcohol</th>\n",
       "      <th>quality</th>\n",
       "    </tr>\n",
       "  </thead>\n",
       "  <tbody>\n",
       "    <tr>\n",
       "      <th>0</th>\n",
       "      <td>7.0</td>\n",
       "      <td>0.27</td>\n",
       "      <td>0.36</td>\n",
       "      <td>20.7</td>\n",
       "      <td>0.045</td>\n",
       "      <td>45</td>\n",
       "      <td>170</td>\n",
       "      <td>1.0010</td>\n",
       "      <td>3.00</td>\n",
       "      <td>0.45</td>\n",
       "      <td>8.8</td>\n",
       "      <td>6</td>\n",
       "    </tr>\n",
       "    <tr>\n",
       "      <th>1</th>\n",
       "      <td>6.3</td>\n",
       "      <td>0.30</td>\n",
       "      <td>0.34</td>\n",
       "      <td>1.6</td>\n",
       "      <td>0.049</td>\n",
       "      <td>14</td>\n",
       "      <td>132</td>\n",
       "      <td>0.9940</td>\n",
       "      <td>3.30</td>\n",
       "      <td>0.49</td>\n",
       "      <td>9.5</td>\n",
       "      <td>6</td>\n",
       "    </tr>\n",
       "    <tr>\n",
       "      <th>2</th>\n",
       "      <td>8.1</td>\n",
       "      <td>0.28</td>\n",
       "      <td>0.40</td>\n",
       "      <td>6.9</td>\n",
       "      <td>0.050</td>\n",
       "      <td>30</td>\n",
       "      <td>97</td>\n",
       "      <td>0.9951</td>\n",
       "      <td>3.26</td>\n",
       "      <td>0.44</td>\n",
       "      <td>10.1</td>\n",
       "      <td>6</td>\n",
       "    </tr>\n",
       "    <tr>\n",
       "      <th>3</th>\n",
       "      <td>7.2</td>\n",
       "      <td>0.23</td>\n",
       "      <td>0.32</td>\n",
       "      <td>8.5</td>\n",
       "      <td>0.058</td>\n",
       "      <td>47</td>\n",
       "      <td>186</td>\n",
       "      <td>0.9956</td>\n",
       "      <td>3.19</td>\n",
       "      <td>0.40</td>\n",
       "      <td>9.9</td>\n",
       "      <td>6</td>\n",
       "    </tr>\n",
       "    <tr>\n",
       "      <th>4</th>\n",
       "      <td>7.2</td>\n",
       "      <td>0.23</td>\n",
       "      <td>0.32</td>\n",
       "      <td>8.5</td>\n",
       "      <td>0.058</td>\n",
       "      <td>47</td>\n",
       "      <td>186</td>\n",
       "      <td>0.9956</td>\n",
       "      <td>3.19</td>\n",
       "      <td>0.40</td>\n",
       "      <td>9.9</td>\n",
       "      <td>6</td>\n",
       "    </tr>\n",
       "  </tbody>\n",
       "</table>\n",
       "</div>"
      ],
      "text/plain": [
       "   fixed_acidity  volatile_acidity  citric_acid  residual_sugar  chlorides  \\\n",
       "0            7.0              0.27         0.36            20.7      0.045   \n",
       "1            6.3              0.30         0.34             1.6      0.049   \n",
       "2            8.1              0.28         0.40             6.9      0.050   \n",
       "3            7.2              0.23         0.32             8.5      0.058   \n",
       "4            7.2              0.23         0.32             8.5      0.058   \n",
       "\n",
       "   free_sulfur_dioxide  total_sulfur_dioxide  density    pH  sulphates  \\\n",
       "0                   45                   170   1.0010  3.00       0.45   \n",
       "1                   14                   132   0.9940  3.30       0.49   \n",
       "2                   30                    97   0.9951  3.26       0.44   \n",
       "3                   47                   186   0.9956  3.19       0.40   \n",
       "4                   47                   186   0.9956  3.19       0.40   \n",
       "\n",
       "   alcohol  quality  \n",
       "0      8.8        6  \n",
       "1      9.5        6  \n",
       "2     10.1        6  \n",
       "3      9.9        6  \n",
       "4      9.9        6  "
      ]
     },
     "execution_count": 5,
     "metadata": {},
     "output_type": "execute_result"
    }
   ],
   "source": [
    "white.head()"
   ]
  },
  {
   "cell_type": "markdown",
   "metadata": {},
   "source": [
    "## Question 2\n",
    "<p style=\"text-align:justify\";>*Plot bar-plots of the number of examples with each target value for the two datasets.*</p>"
   ]
  },
  {
   "cell_type": "code",
   "execution_count": 6,
   "metadata": {
    "collapsed": false,
    "scrolled": false
   },
   "outputs": [
    {
     "data": {
      "image/png": "[encoded data removed]",
      "text/plain": [
       "<matplotlib.figure.Figure at 0x7f4e183731d0>"
      ]
     },
     "metadata": {},
     "output_type": "display_data"
    }
   ],
   "source": [
    "N = 11\n",
    "\n",
    "# In order to compare red and white wines, we normalized our distributions\n",
    "def targetDistribution(wine): \n",
    "    x = 1./len(wine['quality'])\n",
    "    distribution = [0 for _ in range(0,N)]\n",
    "    for q in wine['quality']:\n",
    "        distribution[q]+=x\n",
    "    return distribution\n",
    "\n",
    "tdr =  targetDistribution(red)\n",
    "tdw =  targetDistribution(white)\n",
    "\n",
    "# Plot the bar chart\n",
    "ind = np.arange(N)\n",
    "width = 0.35\n",
    "\n",
    "fig = plt.figure(figsize=(20,10))\n",
    "\n",
    "p1 = plt.bar(ind-width, tdr, width, color='r')\n",
    "p2 = plt.bar(ind, tdw, width, color='y')\n",
    "\n",
    "plt.xlabel('Quality')\n",
    "plt.ylabel('Ratio of examples')\n",
    "plt.title('Ratio of examples given the quality')\n",
    "plt.legend((p1[0], p2[0]), ('Red wine', 'White wine'))\n",
    "\n",
    "plt.show()"
   ]
  },
  {
   "cell_type": "markdown",
   "metadata": {},
   "source": [
    "## Question 3\n",
    "*Comment on these distributions. How might they effect the analysis?*"
   ]
  },
  {
   "cell_type": "markdown",
   "metadata": {},
   "source": [
    "For both kind of wines, the distribution seems to be a (discrete) Gaussian whose the mean is around 5 and 6, and the variance around 2. The main part of our predictions might be between 5 and 7.\n",
    "\n",
    "The two kind of wines distributions are really similar. However white ones are more likely to have a better quality. The most represented predictions will have to be 5 in the Red wine's case and 6 in the white one."
   ]
  },
  {
   "cell_type": "markdown",
   "metadata": {},
   "source": [
    "## Question 4 : Linear Regression\n",
    "### sub-question 4.a\n",
    "*We will now concentrate on the red wine data. Randomly split the data into a training and test set with 70% of the examples in the training and 30% in the test.*"
   ]
  },
  {
   "cell_type": "code",
   "execution_count": 7,
   "metadata": {
    "collapsed": false
   },
   "outputs": [
    {
     "name": "stdout",
     "output_type": "stream",
     "text": [
      "Converted fraction of the dataset into training data :  69.9812382739 % \n",
      "\n",
      "Training data :\n"
     ]
    },
    {
     "data": {
      "text/html": [
       "<div>\n",
       "<table border=\"1\" class=\"dataframe\">\n",
       "  <thead>\n",
       "    <tr style=\"text-align: right;\">\n",
       "      <th></th>\n",
       "      <th>fixed_acidity</th>\n",
       "      <th>volatile_acidity</th>\n",
       "      <th>citric_acid</th>\n",
       "      <th>residual_sugar</th>\n",
       "      <th>chlorides</th>\n",
       "      <th>free_sulfur_dioxide</th>\n",
       "      <th>total_sulfur_dioxide</th>\n",
       "      <th>density</th>\n",
       "      <th>pH</th>\n",
       "      <th>sulphates</th>\n",
       "      <th>alcohol</th>\n",
       "      <th>quality</th>\n",
       "    </tr>\n",
       "  </thead>\n",
       "  <tbody>\n",
       "    <tr>\n",
       "      <th>0</th>\n",
       "      <td>7.4</td>\n",
       "      <td>0.70</td>\n",
       "      <td>0.00</td>\n",
       "      <td>1.9</td>\n",
       "      <td>0.076</td>\n",
       "      <td>11</td>\n",
       "      <td>34</td>\n",
       "      <td>0.9978</td>\n",
       "      <td>3.51</td>\n",
       "      <td>0.56</td>\n",
       "      <td>9.4</td>\n",
       "      <td>5</td>\n",
       "    </tr>\n",
       "    <tr>\n",
       "      <th>1</th>\n",
       "      <td>7.8</td>\n",
       "      <td>0.88</td>\n",
       "      <td>0.00</td>\n",
       "      <td>2.6</td>\n",
       "      <td>0.098</td>\n",
       "      <td>25</td>\n",
       "      <td>67</td>\n",
       "      <td>0.9968</td>\n",
       "      <td>3.20</td>\n",
       "      <td>0.68</td>\n",
       "      <td>9.8</td>\n",
       "      <td>5</td>\n",
       "    </tr>\n",
       "    <tr>\n",
       "      <th>2</th>\n",
       "      <td>7.8</td>\n",
       "      <td>0.76</td>\n",
       "      <td>0.04</td>\n",
       "      <td>2.3</td>\n",
       "      <td>0.092</td>\n",
       "      <td>15</td>\n",
       "      <td>54</td>\n",
       "      <td>0.9970</td>\n",
       "      <td>3.26</td>\n",
       "      <td>0.65</td>\n",
       "      <td>9.8</td>\n",
       "      <td>5</td>\n",
       "    </tr>\n",
       "    <tr>\n",
       "      <th>6</th>\n",
       "      <td>7.9</td>\n",
       "      <td>0.60</td>\n",
       "      <td>0.06</td>\n",
       "      <td>1.6</td>\n",
       "      <td>0.069</td>\n",
       "      <td>15</td>\n",
       "      <td>59</td>\n",
       "      <td>0.9964</td>\n",
       "      <td>3.30</td>\n",
       "      <td>0.46</td>\n",
       "      <td>9.4</td>\n",
       "      <td>5</td>\n",
       "    </tr>\n",
       "    <tr>\n",
       "      <th>8</th>\n",
       "      <td>7.8</td>\n",
       "      <td>0.58</td>\n",
       "      <td>0.02</td>\n",
       "      <td>2.0</td>\n",
       "      <td>0.073</td>\n",
       "      <td>9</td>\n",
       "      <td>18</td>\n",
       "      <td>0.9968</td>\n",
       "      <td>3.36</td>\n",
       "      <td>0.57</td>\n",
       "      <td>9.5</td>\n",
       "      <td>7</td>\n",
       "    </tr>\n",
       "  </tbody>\n",
       "</table>\n",
       "</div>"
      ],
      "text/plain": [
       "   fixed_acidity  volatile_acidity  citric_acid  residual_sugar  chlorides  \\\n",
       "0            7.4              0.70         0.00             1.9      0.076   \n",
       "1            7.8              0.88         0.00             2.6      0.098   \n",
       "2            7.8              0.76         0.04             2.3      0.092   \n",
       "6            7.9              0.60         0.06             1.6      0.069   \n",
       "8            7.8              0.58         0.02             2.0      0.073   \n",
       "\n",
       "   free_sulfur_dioxide  total_sulfur_dioxide  density    pH  sulphates  \\\n",
       "0                   11                    34   0.9978  3.51       0.56   \n",
       "1                   25                    67   0.9968  3.20       0.68   \n",
       "2                   15                    54   0.9970  3.26       0.65   \n",
       "6                   15                    59   0.9964  3.30       0.46   \n",
       "8                    9                    18   0.9968  3.36       0.57   \n",
       "\n",
       "   alcohol  quality  \n",
       "0      9.4        5  \n",
       "1      9.8        5  \n",
       "2      9.8        5  \n",
       "6      9.4        5  \n",
       "8      9.5        7  "
      ]
     },
     "execution_count": 7,
     "metadata": {},
     "output_type": "execute_result"
    }
   ],
   "source": [
    "# Since we concentrate on red wine, we will first rename the red dataset\n",
    "dataset = red\n",
    "features = ['fixed_acidity','volatile_acidity','citric_acid','residual_sugar','chlorides','free_sulfur_dioxide',\\\n",
    "             'total_sulfur_dioxide','density','pH','sulphates','alcohol']\n",
    "\n",
    "# Random split : 70% training, 30% test data\n",
    "test = dataset.sample(frac=.3)\n",
    "training = dataset.drop(test.index.values.tolist())\n",
    "\n",
    "print 'Converted fraction of the dataset into training data : ', 100*float(len(training))/float(len(dataset)), '% \\n'\n",
    "\n",
    "print 'Training data :'\n",
    "training.head()"
   ]
  },
  {
   "cell_type": "code",
   "execution_count": 8,
   "metadata": {
    "collapsed": false
   },
   "outputs": [],
   "source": [
    "# We'll use m later (cf. sub-question 4.e): mean of the target on the training data\n",
    "m = np.mean(training['quality'])"
   ]
  },
  {
   "cell_type": "code",
   "execution_count": 9,
   "metadata": {
    "collapsed": false
   },
   "outputs": [
    {
     "name": "stdout",
     "output_type": "stream",
     "text": [
      "Converted fraction of the dataset into test data :  30.0187617261 % \n",
      "\n",
      "Test data :\n"
     ]
    },
    {
     "data": {
      "text/html": [
       "<div>\n",
       "<table border=\"1\" class=\"dataframe\">\n",
       "  <thead>\n",
       "    <tr style=\"text-align: right;\">\n",
       "      <th></th>\n",
       "      <th>fixed_acidity</th>\n",
       "      <th>volatile_acidity</th>\n",
       "      <th>citric_acid</th>\n",
       "      <th>residual_sugar</th>\n",
       "      <th>chlorides</th>\n",
       "      <th>free_sulfur_dioxide</th>\n",
       "      <th>total_sulfur_dioxide</th>\n",
       "      <th>density</th>\n",
       "      <th>pH</th>\n",
       "      <th>sulphates</th>\n",
       "      <th>alcohol</th>\n",
       "      <th>quality</th>\n",
       "    </tr>\n",
       "  </thead>\n",
       "  <tbody>\n",
       "    <tr>\n",
       "      <th>1139</th>\n",
       "      <td>8.2</td>\n",
       "      <td>0.510</td>\n",
       "      <td>0.24</td>\n",
       "      <td>2.0</td>\n",
       "      <td>0.079</td>\n",
       "      <td>16</td>\n",
       "      <td>86</td>\n",
       "      <td>0.99764</td>\n",
       "      <td>3.34</td>\n",
       "      <td>0.64</td>\n",
       "      <td>9.5</td>\n",
       "      <td>6</td>\n",
       "    </tr>\n",
       "    <tr>\n",
       "      <th>1208</th>\n",
       "      <td>7.2</td>\n",
       "      <td>0.360</td>\n",
       "      <td>0.46</td>\n",
       "      <td>2.1</td>\n",
       "      <td>0.074</td>\n",
       "      <td>24</td>\n",
       "      <td>44</td>\n",
       "      <td>0.99534</td>\n",
       "      <td>3.40</td>\n",
       "      <td>0.85</td>\n",
       "      <td>11.0</td>\n",
       "      <td>7</td>\n",
       "    </tr>\n",
       "    <tr>\n",
       "      <th>351</th>\n",
       "      <td>9.1</td>\n",
       "      <td>0.795</td>\n",
       "      <td>0.00</td>\n",
       "      <td>2.6</td>\n",
       "      <td>0.096</td>\n",
       "      <td>11</td>\n",
       "      <td>26</td>\n",
       "      <td>0.99940</td>\n",
       "      <td>3.35</td>\n",
       "      <td>0.83</td>\n",
       "      <td>9.4</td>\n",
       "      <td>6</td>\n",
       "    </tr>\n",
       "    <tr>\n",
       "      <th>1198</th>\n",
       "      <td>7.7</td>\n",
       "      <td>0.260</td>\n",
       "      <td>0.26</td>\n",
       "      <td>2.0</td>\n",
       "      <td>0.052</td>\n",
       "      <td>19</td>\n",
       "      <td>77</td>\n",
       "      <td>0.99510</td>\n",
       "      <td>3.15</td>\n",
       "      <td>0.79</td>\n",
       "      <td>10.9</td>\n",
       "      <td>6</td>\n",
       "    </tr>\n",
       "    <tr>\n",
       "      <th>96</th>\n",
       "      <td>6.8</td>\n",
       "      <td>0.775</td>\n",
       "      <td>0.00</td>\n",
       "      <td>3.0</td>\n",
       "      <td>0.102</td>\n",
       "      <td>8</td>\n",
       "      <td>23</td>\n",
       "      <td>0.99650</td>\n",
       "      <td>3.45</td>\n",
       "      <td>0.56</td>\n",
       "      <td>10.7</td>\n",
       "      <td>5</td>\n",
       "    </tr>\n",
       "  </tbody>\n",
       "</table>\n",
       "</div>"
      ],
      "text/plain": [
       "      fixed_acidity  volatile_acidity  citric_acid  residual_sugar  chlorides  \\\n",
       "1139            8.2             0.510         0.24             2.0      0.079   \n",
       "1208            7.2             0.360         0.46             2.1      0.074   \n",
       "351             9.1             0.795         0.00             2.6      0.096   \n",
       "1198            7.7             0.260         0.26             2.0      0.052   \n",
       "96              6.8             0.775         0.00             3.0      0.102   \n",
       "\n",
       "      free_sulfur_dioxide  total_sulfur_dioxide  density    pH  sulphates  \\\n",
       "1139                   16                    86  0.99764  3.34       0.64   \n",
       "1208                   24                    44  0.99534  3.40       0.85   \n",
       "351                    11                    26  0.99940  3.35       0.83   \n",
       "1198                   19                    77  0.99510  3.15       0.79   \n",
       "96                      8                    23  0.99650  3.45       0.56   \n",
       "\n",
       "      alcohol  quality  \n",
       "1139      9.5        6  \n",
       "1208     11.0        7  \n",
       "351       9.4        6  \n",
       "1198     10.9        6  \n",
       "96       10.7        5  "
      ]
     },
     "execution_count": 9,
     "metadata": {},
     "output_type": "execute_result"
    }
   ],
   "source": [
    "print 'Converted fraction of the dataset into test data : ', 100*float(len(test))/float(len(dataset)), '% \\n'\n",
    "\n",
    "print 'Test data :'\n",
    "test.head()"
   ]
  },
  {
   "cell_type": "markdown",
   "metadata": {},
   "source": [
    "### sub-question 4.b\n",
    "*Fit a linear regression to the training data.*"
   ]
  },
  {
   "cell_type": "code",
   "execution_count": 10,
   "metadata": {
    "collapsed": false
   },
   "outputs": [
    {
     "name": "stdout",
     "output_type": "stream",
     "text": [
      "[5 5 5 ..., 6 6 5]\n"
     ]
    }
   ],
   "source": [
    "# We begin by introducing the objects used for the linear regression : t the the target vector and x the features matrix.\n",
    "t = training['quality']\n",
    "t = np.array(t)\n",
    "print t"
   ]
  },
  {
   "cell_type": "code",
   "execution_count": 11,
   "metadata": {
    "collapsed": false,
    "scrolled": true
   },
   "outputs": [
    {
     "name": "stdout",
     "output_type": "stream",
     "text": [
      "[  7.4      0.7      0.       1.9      0.076   11.      34.       0.9978\n",
      "   3.51     0.56     9.4   ]\n"
     ]
    }
   ],
   "source": [
    "x = training[features]\n",
    "x = np.array(x)\n",
    "print x[0]"
   ]
  },
  {
   "cell_type": "markdown",
   "metadata": {},
   "source": [
    "#### Create the X matrix\n",
    "I spent some time to understand how to create the *X* matrix in the case of multiple features. Indeed, we saw in course the linear case of an unique feature where :\n",
    "\n",
    "$$  X = \\left( \\begin{array}{cc}\n",
    "x_0^0 & x_0^1 \\\\\n",
    "x_1^0 & x_1^1 \\\\\n",
    "x_2^0 & x_2^1 \\\\\n",
    "... & ... \\end{array} \\right).$$\n",
    "\n",
    "But where to add a second feature ? It would mean *a priori* to add a second matrix similar to the one above... What about a tensor of order 3 ? Not so easy to use in a generalisation of the course...\n",
    "\n",
    "Let study again the definition of *X*. Our goal is to predict **t** by applying to **x** the model : $ t = \\sum_k w_k W_k (\\textbf{x}) $ where *W_k* is a function applyed to **x**. Thus, in the case of a linear regression with one unique feature, we want : $ t = \\sum_k w_k x^k$. Here, we apply the functions to **x** : $ W_k : \\textbf{x} \\mapsto x^k $.\n",
    "\n",
    "All the key is to understand what object is **x** ? Actually, it's a vector, which was not so obvious (at least for me) in the unique feature case. Thus, in our multiple features case, we want to apply the following model :\n",
    "\n",
    "$$ t = w_0 + \\sum_k w_k x_k $$\n",
    "\n",
    "So *W_k* is a function from the 11 dimensions feature space to our unidimensional target space : $\\forall k \\in [1,11], W_k : \\textbf{x} \\mapsto x_k $ and $ W_0 : \\textbf{x} \\mapsto 1 $. This new understanding leads us to the general definition of *X* :\n",
    "\n",
    "$$  X = \\left( W_j ( \\textbf{x}_i ) \\right)_{i,j} $$\n",
    "\n",
    "In our case, we get so :\n",
    "\n",
    "$$  X = \\left( \\begin{array}{cccc}\n",
    "1 & x_{01} & x_{02} & ... & x_{0f} \\\\\n",
    "1 & x_{11} & x_{12} & ... & x_{1f} \\\\\n",
    "1 & x_{21} & x_{22} & ... & x_{2f} \\\\\n",
    "... & ...  & ... & ... & ... \\end{array} \\right).$$"
   ]
  },
  {
   "cell_type": "code",
   "execution_count": 12,
   "metadata": {
    "collapsed": false
   },
   "outputs": [
    {
     "name": "stdout",
     "output_type": "stream",
     "text": [
      "[1, 7.7999999999999998, 0.88, 0.0, 2.6000000000000001, 0.098000000000000004, 25.0, 67.0, 0.99680000000000002, 3.2000000000000002, 0.68000000000000005, 9.8000000000000007]\n"
     ]
    }
   ],
   "source": [
    "def createX(x):\n",
    "    l = len(x)\n",
    "    X = [[1 for _ in range(0,12)] for _ in range(0,l)]\n",
    "\n",
    "    for i in range(0,l):\n",
    "        for j in range(0,11):\n",
    "            X[i][j+1] = x[i][j]\n",
    "    return X  \n",
    "\n",
    "X = createX(x)\n",
    "print X[1]"
   ]
  },
  {
   "cell_type": "code",
   "execution_count": 13,
   "metadata": {
    "collapsed": false,
    "scrolled": true
   },
   "outputs": [
    {
     "name": "stdout",
     "output_type": "stream",
     "text": [
      "w = [  2.18363056e+01   2.57311685e-02  -1.15780210e+00  -1.97671908e-01\n",
      "   2.58792621e-02  -2.05690861e+00   2.94727950e-03  -2.10095152e-03\n",
      "  -1.75940534e+01  -5.57106112e-01   8.74165437e-01   3.08662725e-01]\n"
     ]
    }
   ],
   "source": [
    "# Application of the course :\n",
    "def linearRegression(X,t):\n",
    "    Xt = np.transpose(X)\n",
    "    return np.dot(np.dot(np.linalg.pinv(np.dot(Xt,X)),Xt),t)\n",
    "\n",
    "w = linearRegression(X,t)\n",
    "print 'w =',w"
   ]
  },
  {
   "cell_type": "code",
   "execution_count": 14,
   "metadata": {
    "collapsed": false,
    "scrolled": true
   },
   "outputs": [],
   "source": [
    "def predict(w,x_new):\n",
    "    return w[0]+ np.sum([w[k+1]*x_new[k] for k in range(0,len(w)-1)])\n",
    "\n",
    "tt = test['quality']\n",
    "tt = np.array(tt)\n",
    "\n",
    "test = np.array(test)\n",
    "\n",
    "# build a set of prediction given a dataset o\n",
    "def buildPrediction(w,test):\n",
    "    l0 = len(test)\n",
    "    prediction= []\n",
    "    for i in range(0,l0):\n",
    "        p = predict(w,test[i])\n",
    "        prediction.append(p)\n",
    "    return prediction"
   ]
  },
  {
   "cell_type": "code",
   "execution_count": 15,
   "metadata": {
    "collapsed": false
   },
   "outputs": [
    {
     "name": "stdout",
     "output_type": "stream",
     "text": [
      "[5.2436141652450772, 6.1263649477685593, 5.1748092452442478, 6.3133242914466035, 5.294803887613778]\n"
     ]
    }
   ],
   "source": [
    "prediction = buildPrediction(w,test)\n",
    "print prediction[:5]"
   ]
  },
  {
   "cell_type": "markdown",
   "metadata": {},
   "source": [
    "### sub-question 4.c\n",
    "*Make a scatter plot the predictions versus the true targets for the test set and compute the mean squared error on the test set.*"
   ]
  },
  {
   "cell_type": "code",
   "execution_count": 16,
   "metadata": {
    "collapsed": false,
    "scrolled": false
   },
   "outputs": [
    {
     "data": {
      "image/png": "[encoded data removed]",
      "text/plain": [
       "<matplotlib.figure.Figure at 0x7f4e15f7b590>"
      ]
     },
     "metadata": {},
     "output_type": "display_data"
    }
   ],
   "source": [
    "def comparePlot(tt,prediction):\n",
    "    l0 = len(tt)\n",
    "    \n",
    "    fig = plt.figure(figsize=(20,10))\n",
    "\n",
    "    p1 = plt.plot( range(0,l0),tt,'bo')\n",
    "    p2 = plt.plot( range(0,l0),prediction,'r.')\n",
    "\n",
    "\n",
    "    plt.xlabel('Sample')\n",
    "    plt.ylabel('Quality')\n",
    "    plt.title('True and expected quality for the test data')\n",
    "    plt.legend((p1[0], p2[0]), ('Test Data', 'Prediction'))\n",
    "\n",
    "    plt.show()\n",
    "    \n",
    "comparePlot(tt,prediction)"
   ]
  },
  {
   "cell_type": "markdown",
   "metadata": {},
   "source": [
    "The continuity of the linear regression cannot give back the discrete aspect of the target. By using the function $\\texttt{round}$, we increase the MSE, despite the output is more \"similar\" to the target."
   ]
  },
  {
   "cell_type": "code",
   "execution_count": 17,
   "metadata": {
    "collapsed": false,
    "scrolled": true
   },
   "outputs": [
    {
     "data": {
      "image/png": "[encoded data removed]",
      "text/plain": [
       "<matplotlib.figure.Figure at 0x7f4e18369e90>"
      ]
     },
     "metadata": {},
     "output_type": "display_data"
    }
   ],
   "source": [
    "def scatterPlot(tt,prediction):\n",
    "    # Trend part\n",
    "    scatterX = np.array([[1,tt[i]] for i in range(len(tt))])\n",
    "    scatterW = linearRegression(scatterX,prediction)\n",
    "    TT = [[tt[i]] for i in range(len(tt))]\n",
    "    \n",
    "    # Whole plot\n",
    "    fig = plt.figure(figsize=(20,10))\n",
    "    \n",
    "    p1 = plt.plot( tt,prediction,'r.')\n",
    "    p2 = plt.plot(tt, [predict(scatterW,TT[i]) for i in range(len(tt))],'b-')\n",
    "    plt.xlabel('True value')\n",
    "    plt.ylabel('Prediction')\n",
    "    plt.title('Scatter plot')\n",
    "    plt.legend((p1[0], p2[0]), ('Scattered data', 'Trend'))\n",
    "    plt.show()\n",
    "    \n",
    "scatterPlot(tt,prediction)"
   ]
  },
  {
   "cell_type": "markdown",
   "metadata": {},
   "source": [
    "The linear regression of the predicted value given the true one is used as an easy approximation of the principal component of the points of the scatter plot. It gives an idea of the correlation between predictions and real values."
   ]
  },
  {
   "cell_type": "code",
   "execution_count": 18,
   "metadata": {
    "collapsed": false
   },
   "outputs": [
    {
     "name": "stdout",
     "output_type": "stream",
     "text": [
      "Mean Squared Error =  0.451715901552\n"
     ]
    }
   ],
   "source": [
    "def meanSquaredError(test,prediction):\n",
    "    l0 = len(test)\n",
    "    r = 0\n",
    "    for i in range(0,len(test)):\n",
    "        r += (test[i]-prediction[i])**2\n",
    "    return float(r)/float(l0)\n",
    "\n",
    "print 'Mean Squared Error = ', meanSquaredError(tt,prediction)"
   ]
  },
  {
   "cell_type": "markdown",
   "metadata": {},
   "source": [
    "### sub-question 4.d\n",
    "*Suggest a benchmark that you could use to decide if this mean squared error value is good.*"
   ]
  },
  {
   "cell_type": "markdown",
   "metadata": {},
   "source": [
    "We could imagine a program which will always return the mean *m* of the target computed from the training data as a prediction. If the MSE is better with our previous regression than this simple program (whose the MSE is the variance of our data), we can accept the model."
   ]
  },
  {
   "cell_type": "markdown",
   "metadata": {},
   "source": [
    "### sub-question 4.e\n",
    "*Implement your benchmark.*"
   ]
  },
  {
   "cell_type": "code",
   "execution_count": 19,
   "metadata": {
    "collapsed": false
   },
   "outputs": [
    {
     "name": "stdout",
     "output_type": "stream",
     "text": [
      "Mean Squared Error =  0.617956416946\n"
     ]
    }
   ],
   "source": [
    "mm = [m for _ in range(0,len(tt))]\n",
    "print 'Mean Squared Error = ', meanSquaredError(tt,mm)"
   ]
  },
  {
   "cell_type": "markdown",
   "metadata": {},
   "source": [
    "### sub-question 4.f\n",
    "*Briefly discuss the linear regression performance with respect to the benchmark.*"
   ]
  },
  {
   "cell_type": "markdown",
   "metadata": {},
   "source": [
    "The benchmark give the reference value around 0.6, whereas the MSE of our linear regression is around 0.45 : our work gives better predictions than just returning always the same value, despite the variance of the quality is not so high (most of the target is 5 or 6). Thus, our work improved significantly the predictions we could make naively."
   ]
  },
  {
   "cell_type": "markdown",
   "metadata": {},
   "source": [
    "## Question 5 : Regularized Linear Expression\n",
    "### sub-question 5.a\n",
    "<p style=\"text-align:justify\";>*Implement regularized least squares and make a plot of the test performance versus the regularization parameter.*</p>\n",
    "\n",
    "#### Implementation"
   ]
  },
  {
   "cell_type": "code",
   "execution_count": 20,
   "metadata": {
    "collapsed": false
   },
   "outputs": [],
   "source": [
    "def rLinearRegression(X,t,r):\n",
    "    Xt = np.transpose(X)\n",
    "    aux = np.dot(Xt,X)\n",
    "    l = len(aux)\n",
    "    return np.dot(np.dot(np.linalg.pinv(np.add(np.dot(Xt,X),r*np.identity(l))),Xt),t)"
   ]
  },
  {
   "cell_type": "markdown",
   "metadata": {},
   "source": [
    "#### Example : case r=2"
   ]
  },
  {
   "cell_type": "code",
   "execution_count": 21,
   "metadata": {
    "collapsed": false
   },
   "outputs": [
    {
     "name": "stdout",
     "output_type": "stream",
     "text": [
      "w = [ 0.94578307  0.05495201 -1.12483936 -0.21483138  0.01361439 -0.77652667\n",
      "  0.0025421  -0.00130994  0.91971117 -0.03033943  0.72513808  0.34906171]\n"
     ]
    }
   ],
   "source": [
    "w = rLinearRegression(X,t,2)\n",
    "print 'w =', w"
   ]
  },
  {
   "cell_type": "code",
   "execution_count": 22,
   "metadata": {
    "collapsed": false
   },
   "outputs": [
    {
     "name": "stdout",
     "output_type": "stream",
     "text": [
      "[5.2614451684956318, 6.0804905670562608, 5.2069214350513455, 6.1521499344285733, 5.3524105504966499, 5.1737195112402965, 5.039310675672608, 6.0077694180445818, 5.1376404752400262, 5.7926314075148806]\n"
     ]
    }
   ],
   "source": [
    "prediction = buildPrediction(w,test) \n",
    "print prediction[:10]"
   ]
  },
  {
   "cell_type": "code",
   "execution_count": 23,
   "metadata": {
    "collapsed": false,
    "scrolled": true
   },
   "outputs": [
    {
     "data": {
      "image/png": "[encoded data removed]",
      "text/plain": [
       "<matplotlib.figure.Figure at 0x7f4e15de8dd0>"
      ]
     },
     "metadata": {},
     "output_type": "display_data"
    }
   ],
   "source": [
    "comparePlot(tt,prediction)"
   ]
  },
  {
   "cell_type": "code",
   "execution_count": 24,
   "metadata": {
    "collapsed": false,
    "scrolled": true
   },
   "outputs": [
    {
     "data": {
      "image/png": "[encoded data removed]",
      "text/plain": [
       "<matplotlib.figure.Figure at 0x7f4e15d9fd10>"
      ]
     },
     "metadata": {},
     "output_type": "display_data"
    }
   ],
   "source": [
    "scatterPlot(tt,prediction)"
   ]
  },
  {
   "cell_type": "code",
   "execution_count": 25,
   "metadata": {
    "collapsed": false
   },
   "outputs": [
    {
     "name": "stdout",
     "output_type": "stream",
     "text": [
      "Mean Squared Error =  0.455069993723\n"
     ]
    }
   ],
   "source": [
    "print 'Mean Squared Error = ',meanSquaredError(tt,prediction)"
   ]
  },
  {
   "cell_type": "markdown",
   "metadata": {},
   "source": [
    "#### Choice of the Regularization Parameter"
   ]
  },
  {
   "cell_type": "code",
   "execution_count": 26,
   "metadata": {
    "collapsed": false
   },
   "outputs": [
    {
     "name": "stdout",
     "output_type": "stream",
     "text": [
      "Optimization terminated successfully.\n",
      "         Current function value: 0.451663\n",
      "         Iterations: 16\n",
      "         Function evaluations: 32\n",
      "0.2376953125\n"
     ]
    }
   ],
   "source": [
    "f = lambda r : meanSquaredError(tt,buildPrediction(rLinearRegression(X,t,r),test))\n",
    "best_r = opt.fmin(f,1)[0]\n",
    "print best_r"
   ]
  },
  {
   "cell_type": "code",
   "execution_count": 27,
   "metadata": {
    "collapsed": false,
    "scrolled": false
   },
   "outputs": [
    {
     "data": {
      "image/png": "[encoded data removed]",
      "text/plain": [
       "<matplotlib.figure.Figure at 0x7f4e15b06f10>"
      ]
     },
     "metadata": {},
     "output_type": "display_data"
    }
   ],
   "source": [
    "rho = [round((0.001*i),3) for i in range(301)]\\\n",
    "    + [round(0.3+(0.01*(i+1)),2) for i in range(20)]\\\n",
    "    + [round(0.5+(0.05*(i+1)),2) for i in range(10)]\\\n",
    "    + [round(1+(0.1*(i+1)),2) for i in range(10)]\n",
    "\n",
    "mse = [f(rho[i])for i in range(len(rho))]\n",
    "\n",
    "fig = plt.figure(figsize=(20,10))\n",
    "\n",
    "p1 = plt.plot( rho,mse,'b-')\n",
    "p2 = plt.plot([best_r-.2,best_r,best_r+.2],[f(best_r),f(best_r),f(best_r)],'r-')\n",
    "p3 = plt.plot([best_r,best_r,best_r],[f(best_r)-.0001,f(best_r),f(best_r)+.0001],'r-')\n",
    "\n",
    "plt.xlabel('Regularization Parameter r')\n",
    "plt.ylabel('MSE')\n",
    "plt.title('MSE given the Regularization Parameter')\n",
    "\n",
    "plt.show()"
   ]
  },
  {
   "cell_type": "markdown",
   "metadata": {},
   "source": [
    "### sub-question 5.b\n",
    "<p style=\"text-align:justify\";>*Describe why this is not a good way of determining the value of the regularization parameter.*</p>"
   ]
  },
  {
   "cell_type": "markdown",
   "metadata": {},
   "source": [
    "Actually we are training our algorithm on the validation data. The performance seems better but we lost the generality of the algorithm. A good way should be to split the training data and to do this second step of tuning the regularizing parameter still inside the training data."
   ]
  },
  {
   "cell_type": "markdown",
   "metadata": {},
   "source": [
    "### sub-question 5.c\n",
    "<p style=\"text-align:justify\";>*Implement a 10-fold CV on the training data and use this to determine the value of the regularization parameter. Quote the optimal value, and the performance at this value on the test set.*</p>"
   ]
  },
  {
   "cell_type": "code",
   "execution_count": 28,
   "metadata": {
    "collapsed": false,
    "scrolled": true
   },
   "outputs": [],
   "source": [
    "def split(dataset,k):\n",
    "    L = []\n",
    "    aux0 = dataset\n",
    "    for i in range(k-1):\n",
    "        aux1 = aux0.sample(frac=(1./(k-i)))\n",
    "        aux0 = aux0.drop(aux1.index.values.tolist())\n",
    "        L.append(aux1)\n",
    "    L.append(aux0)\n",
    "    return L"
   ]
  },
  {
   "cell_type": "code",
   "execution_count": 29,
   "metadata": {
    "collapsed": false
   },
   "outputs": [
    {
     "data": {
      "text/plain": [
       "(0.12806250000000008, 0.41660459468917022)"
      ]
     },
     "execution_count": 29,
     "metadata": {},
     "output_type": "execute_result"
    }
   ],
   "source": [
    "def kCVrLinReg(dataset,k):\n",
    "    L = split(dataset,k)\n",
    "    def phi(L,par):\n",
    "        err = []\n",
    "        for test0 in L:\n",
    "            tt0 = np.array(test0['quality'])\n",
    "            training0 = dataset.drop(test0.index.values.tolist())\n",
    "            test00 = np.array(test0)\n",
    "            x0 = np.array(training0[features])\n",
    "            X0 = createX(x0)\n",
    "            t0 = np.array(training0['quality'])\n",
    "            # Application of the algorithm :\n",
    "            err.append(meanSquaredError(tt0,buildPrediction(rLinearRegression(X0,t0,par),test00)))   \n",
    "            \n",
    "        return np.mean(err)\n",
    "    \n",
    "    \n",
    "    f = lambda p : phi(L,p)\n",
    "    best_par = opt.fmin(f,0,disp=False)[0]\n",
    "    best_err= f(best_par)\n",
    "    return best_par, best_err\n",
    "        \n",
    "kCVrLinReg(training,10)"
   ]
  },
  {
   "cell_type": "markdown",
   "metadata": {},
   "source": [
    "### sub-question 5.d\n",
    "<p style=\"text-align:justify\";>*Compare the performance with the standard linear regression case, discussing possible reasons for any change in performance.*</p>"
   ]
  },
  {
   "cell_type": "markdown",
   "metadata": {},
   "source": [
    "By adding a regularization term, we limit the cost of model which will fit too much the training data (the more complicated is a model, the more likely it might overfit). Thus, we can manage to decrease a bit more the error from the unreggularized linear regression."
   ]
  },
  {
   "cell_type": "markdown",
   "metadata": {},
   "source": [
    "## Question 6 : Classification\n",
    "### sub-question 6.a\n",
    "*Describe one limitation of using regression for this particular task?*"
   ]
  },
  {
   "cell_type": "markdown",
   "metadata": {},
   "source": [
    "Regression needs to be fed by an explicit model : for instance, we saw that the continuity doesn't really fit the discrete side of the target. By using classification, we abandon the idea to constraint our prediction on an explicit model. "
   ]
  },
  {
   "cell_type": "markdown",
   "metadata": {},
   "source": [
    "### sub-question 6.b\n",
    "*Pick either Naive Bayes or KNN. Describe a positive and a negative feature of your classifier with respect to this class.*"
   ]
  },
  {
   "cell_type": "markdown",
   "metadata": {},
   "source": [
    "We will implement the KNN algorithm. Indeed, this algorithm is quite simple to implement if we can manage to do the two following hypothesis :\n",
    "\n",
    "    - We can define a distance in our feature space.\n",
    "    - The application from the feature space to the target one is continuous.\n",
    "\n",
    "By the way, the definition of the boundary is not so easy to explicit : we will apply the algorithm for each point of the dest data."
   ]
  },
  {
   "cell_type": "markdown",
   "metadata": {},
   "source": [
    "### sub-question 6.c\n",
    "*Describe any data pre-processing that you suggest for this data and your chosen classifier.*"
   ]
  },
  {
   "cell_type": "markdown",
   "metadata": {},
   "source": [
    "KNN is a supervised clustering algorithm : to each point of the training data is attached a label (here the quality). We will re-shape a little the way the data is presented before to apply the algorithm. Then, the data will contain pairs (point,label).\n",
    "\n",
    "By the way, we also need to define a distance. We will use the following distance :\n",
    "\n",
    "$$ distance(\\textbf{x},\\textbf{y}) = || \\textbf{x}-\\textbf{y} ||_2^2 = (\\textbf{x}-\\textbf{y})^T (\\textbf{x}-\\textbf{y}) $$\n",
    "\n",
    "By the way, we're not studying too much the feature space : we could normalize the dimensions, select only the most relevant features..."
   ]
  },
  {
   "cell_type": "markdown",
   "metadata": {},
   "source": [
    "### sub-question 6.d\n",
    "*Implement your classifier and optimize its parameters. Make sure your optimization is clearly commented. Use classification accuracy as your figure of merit.*\n",
    "#### Implementation"
   ]
  },
  {
   "cell_type": "code",
   "execution_count": 30,
   "metadata": {
    "collapsed": true
   },
   "outputs": [],
   "source": [
    "def kNearestNeighbours(newPoint, dataset, k):\n",
    "# newPoint   : element whose we want the label\n",
    "# dataset : dataset of pairs (element, label)\n",
    "# k          : parameter of the k-nn algorithm\n",
    "    \n",
    "    def distance(x,y):\n",
    "        d = 0\n",
    "        for i in range(0,11):\n",
    "            d+=(x[i]-y[i])**2\n",
    "        return d\n",
    "    \n",
    "    # We sort the dataset : the closest elements to newPoint first\n",
    "    sortedDataset = sorted(dataset, key= lambda x : distance(newPoint,x[0]))\n",
    "\n",
    "    # We pick the k closest/first elements\n",
    "    neighbours = sortedDataset[0:k]\n",
    "\n",
    "    # We create the list of the different labels present in the k nearest neighbours, we count them\n",
    "    from collections import Counter\n",
    "    labelList = [n[1] for n in neighbours]\n",
    "    labelList = Counter(labelList).most_common()\n",
    "    \n",
    "    # We select one of the most present labels\n",
    "    L=[labelList[0][0]]\t\n",
    "    \n",
    "    for k in range(0,len(labelList)):\n",
    "        if labelList[k][1]==labelList[0][1]:\n",
    "            L.append(labelList[k][0])\n",
    "\n",
    "    # We pick one\n",
    "    return rd.choice(L)"
   ]
  },
  {
   "cell_type": "markdown",
   "metadata": {},
   "source": [
    "#### Example : 1NearestNeighbours' predictions"
   ]
  },
  {
   "cell_type": "code",
   "execution_count": 31,
   "metadata": {
    "collapsed": false
   },
   "outputs": [
    {
     "name": "stdout",
     "output_type": "stream",
     "text": [
      "[5.0, 7.0, 5.0, 5.0, 5.0]\n"
     ]
    }
   ],
   "source": [
    "training1 = np.array(training)\n",
    "dataset = [[e[0:11],e[11]] for e in training1]\n",
    "\n",
    "def buildKNNPrediction(test,dataset,k):\n",
    "        prediction = []\n",
    "        for i in range(0,len(test)):\n",
    "            p = kNearestNeighbours(test[i],dataset,k)\n",
    "            prediction.append(p)\n",
    "        return prediction\n",
    "    \n",
    "prediction = buildKNNPrediction(test,dataset,1)\n",
    "    \n",
    "print prediction[:5]"
   ]
  },
  {
   "cell_type": "code",
   "execution_count": 32,
   "metadata": {
    "collapsed": false,
    "scrolled": false
   },
   "outputs": [
    {
     "data": {
      "image/png": "[encoded data removed]",
      "text/plain": [
       "<matplotlib.figure.Figure at 0x7f4e15b061d0>"
      ]
     },
     "metadata": {},
     "output_type": "display_data"
    }
   ],
   "source": [
    "comparePlot(tt,prediction)"
   ]
  },
  {
   "cell_type": "code",
   "execution_count": 33,
   "metadata": {
    "collapsed": false
   },
   "outputs": [
    {
     "name": "stdout",
     "output_type": "stream",
     "text": [
      "Mean Squared Error =  0.7375\n"
     ]
    }
   ],
   "source": [
    "\n",
    "print 'Mean Squared Error = ',meanSquaredError(tt,prediction)"
   ]
  },
  {
   "cell_type": "markdown",
   "metadata": {},
   "source": []
  },
  {
   "cell_type": "code",
   "execution_count": 34,
   "metadata": {
    "collapsed": false
   },
   "outputs": [
    {
     "name": "stdout",
     "output_type": "stream",
     "text": [
      "0/1 Loss (in percentage) :  57.9166666667 %\n"
     ]
    }
   ],
   "source": [
    "def zeroOneLoss(testDataset,trainDataset,k):\n",
    "    l=0\n",
    "    for e in testDataset :\n",
    "        if kNearestNeighbours(e[0:11],trainDataset,k)==e[11] :\n",
    "            l+=1\n",
    "    return float(l)/len(testDataset)\n",
    "\n",
    "loss = zeroOneLoss(test,dataset,1)\n",
    "print '0/1 Loss (in percentage) : ',100*loss,'%'"
   ]
  },
  {
   "cell_type": "markdown",
   "metadata": {},
   "source": [
    "#### Optimization\n",
    "\n",
    "In any case, we use 10-fold cross validation."
   ]
  },
  {
   "cell_type": "code",
   "execution_count": 35,
   "metadata": {
    "collapsed": false
   },
   "outputs": [],
   "source": [
    "def kCV01Loss(dataset,k_list,k):\n",
    "    L = split(dataset,k)\n",
    "    def phi(L,par):\n",
    "        err = []\n",
    "        for test0 in L:\n",
    "            training0 = np.array(dataset.drop(test0.index.values.tolist()))\n",
    "            test00 = np.array(test0)\n",
    "            dataset0 = [[e[0:11],e[11]] for e in training0]\n",
    "            # Application of the algorithm :\n",
    "            err.append(zeroOneLoss(test00,dataset0,par))   \n",
    "            \n",
    "        return np.mean(err)\n",
    "    \n",
    "    \n",
    "    f = lambda p : phi(L,p)\n",
    "    return [f(k) for k in k_list]\n",
    "\n",
    "k_list = range(0,201,2)[1:]\n",
    "fk_list = kCV01Loss(training,k_list,10)\n",
    "\n",
    "index = np.argmax(fk_list)\n",
    "best_k = k_list[index]\n",
    "best_fk = fk_list[index]"
   ]
  },
  {
   "cell_type": "code",
   "execution_count": 36,
   "metadata": {
    "collapsed": false
   },
   "outputs": [
    {
     "data": {
      "image/png": "[encoded data removed]",
      "text/plain": [
       "<matplotlib.figure.Figure at 0x7f4e15cf6350>"
      ]
     },
     "metadata": {},
     "output_type": "display_data"
    }
   ],
   "source": [
    "fig = plt.figure(figsize=(20,10))\n",
    "\n",
    "p1 = plt.plot( k_list,fk_list,'b-')\n",
    "p2 = plt.plot([best_k],[best_fk],'ro')\n",
    "\n",
    "plt.xlabel('k')\n",
    "plt.ylabel('O/1 Loss')\n",
    "plt.title('O/1 Loss given k')\n",
    "\n",
    "plt.show()"
   ]
  },
  {
   "cell_type": "markdown",
   "metadata": {},
   "source": [
    "##### Can we still use MSE ?\n",
    "\n",
    "0/1 Loss measures how many time in average can we guess the good value. However, it will not quantify the mistake I make ; what is better between predict 8 instead of 4 and predict 5 instead of 4 ? Thus, studying MSE instead of 0/1 Loss may be interesting."
   ]
  },
  {
   "cell_type": "code",
   "execution_count": 42,
   "metadata": {
    "collapsed": false
   },
   "outputs": [],
   "source": [
    "def kCVMSE(dataset,k_list,k):\n",
    "    L = split(dataset,k)\n",
    "    \n",
    "    def phi(L,par):\n",
    "        err = []\n",
    "        for test0 in L:\n",
    "            training0 = np.array(dataset.drop(test0.index.values.tolist()))\n",
    "            test00 = np.array(test0)\n",
    "            dataset0 = [[e[0:11],e[11]] for e in training0]\n",
    "            \n",
    "            tt0 = np.array(test0['quality'])\n",
    "            p0 = buildKNNPrediction(test00,dataset0,par)\n",
    "            # Application of the algorithm :\n",
    "            err.append(meanSquaredError(tt0,p0))   \n",
    "            \n",
    "        return np.mean(err)\n",
    "    \n",
    "    \n",
    "    f = lambda p : phi(L,p)\n",
    "    return [f(k) for k in k_list]\n",
    "\n",
    "k_list = range(0,201,2)[1:]\n",
    "fk_list = kCVMSE(training,k_list,10)\n",
    "\n",
    "index = np.argmin(fk_list)\n",
    "best_k = k_list[index]\n",
    "best_fk = fk_list[index]"
   ]
  },
  {
   "cell_type": "code",
   "execution_count": 43,
   "metadata": {
    "collapsed": false,
    "scrolled": false
   },
   "outputs": [
    {
     "data": {
      "image/png": "[encoded data removed]",
      "text/plain": [
       "<matplotlib.figure.Figure at 0x7f4e15b90150>"
      ]
     },
     "metadata": {},
     "output_type": "display_data"
    }
   ],
   "source": [
    "fig = plt.figure(figsize=(20,10))\n",
    "\n",
    "p1 = plt.plot( k_list,fk_list,'b-')\n",
    "p2 = plt.plot([best_k],[best_fk],'ro')\n",
    "\n",
    "plt.xlabel('k')\n",
    "plt.ylabel('MSE')\n",
    "plt.title('MSE given k')\n",
    "\n",
    "plt.show()"
   ]
  },
  {
   "cell_type": "code",
   "execution_count": 44,
   "metadata": {
    "collapsed": false
   },
   "outputs": [
    {
     "data": {
      "text/plain": [
       "64"
      ]
     },
     "execution_count": 44,
     "metadata": {},
     "output_type": "execute_result"
    }
   ],
   "source": [
    "best_k"
   ]
  },
  {
   "cell_type": "markdown",
   "metadata": {},
   "source": [
    "We need to redefine the benchmark : instead of choosing the average, we choose the most likely integer."
   ]
  },
  {
   "cell_type": "code",
   "execution_count": 39,
   "metadata": {
    "collapsed": false
   },
   "outputs": [],
   "source": [
    "m = 5\n",
    "mm = [m for _ in range(0,len(tt))]"
   ]
  },
  {
   "cell_type": "code",
   "execution_count": 40,
   "metadata": {
    "collapsed": false
   },
   "outputs": [
    {
     "name": "stdout",
     "output_type": "stream",
     "text": [
      "Mean Squared Error =  1.00833333333\n"
     ]
    }
   ],
   "source": [
    "\n",
    "print 'Mean Squared Error = ', meanSquaredError(tt,mm)"
   ]
  },
  {
   "cell_type": "markdown",
   "metadata": {},
   "source": [
    "### sub-question 6.e\n",
    "*Display the confusion matrix on the test data.*"
   ]
  },
  {
   "cell_type": "markdown",
   "metadata": {},
   "source": [
    "The performance of the KNN algorithm is accepted after having redesigned the benchmark. However, we can notice that the better is the MSE, worst is the 0/1 Loss. In other words, MSE is a good measure to say how much we're closed of the good answer but not how much we are exact. Thus, we should find a compromise between this two ways of measuring performances.\n",
    "\n",
    "For instance, k=60 or 70 could be good values."
   ]
  },
  {
   "cell_type": "code",
   "execution_count": 41,
   "metadata": {
    "collapsed": false
   },
   "outputs": [
    {
     "data": {
      "text/plain": [
       "matrix([[  0,   0,   0,   0,   0,   0,   0,   0,   0,   0,   0],\n",
       "        [  0,   0,   0,   0,   0,   0,   0,   0,   0,   0,   0],\n",
       "        [  0,   0,   0,   0,   0,   0,   0,   0,   0,   0,   0],\n",
       "        [  0,   0,   0,   0,   1,   1,   1,   0,   0,   0,   0],\n",
       "        [  0,   0,   0,   0,   2,   3,   4,   2,   0,   0,   0],\n",
       "        [  0,   0,   0,   0,   7, 142,  59,   8,   0,   0,   0],\n",
       "        [  0,   0,   0,   0,  12,  50, 102,  20,   4,   0,   0],\n",
       "        [  0,   0,   0,   0,   1,   8,  17,  31,   0,   0,   0],\n",
       "        [  0,   0,   0,   0,   0,   0,   3,   1,   1,   0,   0],\n",
       "        [  0,   0,   0,   0,   0,   0,   0,   0,   0,   0,   0],\n",
       "        [  0,   0,   0,   0,   0,   0,   0,   0,   0,   0,   0]])"
      ]
     },
     "execution_count": 41,
     "metadata": {},
     "output_type": "execute_result"
    }
   ],
   "source": [
    "def confusionMatrix(testDataset,trainDataset,k):    \n",
    "    M = [[0 for _ in range(11)] for _ in range(11)]\n",
    "    for e in testDataset :\n",
    "        M[int(e[11])][int(kNearestNeighbours(e[0:11],trainDataset,k))]+=1\n",
    "    return M\n",
    "\n",
    "np.matrix(confusionMatrix(test,dataset,1))"
   ]
  },
  {
   "cell_type": "markdown",
   "metadata": {},
   "source": [
    "### sub-question 6.f\n",
    "*Discuss the performance and suggest a way in which they could be improved.*"
   ]
  },
  {
   "cell_type": "markdown",
   "metadata": {},
   "source": [
    "The confusion matrix is quite diagonal, which means that the prediction fits quite well the true target. The algorithm is generally confused on rare targets : indeed, the bigger is k, the less represented they will be."
   ]
  },
  {
   "cell_type": "markdown",
   "metadata": {},
   "source": [
    "## Bonus question\n",
    "<p style=\"text-align:justify\";>*The data was originally published in Modeling wine preferences by data mining from physicochemical properties, Cortez et al, Decision Support Systems 47(4). Write a review of this paper, focusing on the Machine Learning methods chosen and Assumptions taken. Include a description of how you might advance the work.*</p>\n",
    "\n",
    "__This should be submitted as a separate PDF file.__"
   ]
  }
 ],
 "metadata": {
  "kernelspec": {
   "display_name": "Python 2",
   "language": "python",
   "name": "python2"
  },
  "language_info": {
   "codemirror_mode": {
    "name": "ipython",
    "version": 2
   },
   "file_extension": ".py",
   "mimetype": "text/x-python",
   "name": "python",
   "nbconvert_exporter": "python",
   "pygments_lexer": "ipython2",
   "version": "2.7.11"
  }
 },
 "nbformat": 4,
 "nbformat_minor": 0
}
